{
 "cells": [
  {
   "cell_type": "code",
   "execution_count": 65,
   "metadata": {},
   "outputs": [],
   "source": [
    "import csv"
   ]
  },
  {
   "cell_type": "code",
   "execution_count": 66,
   "metadata": {},
   "outputs": [],
   "source": [
    "def solve_minimal():\n",
    "    input_filepath = 'test.csv'\n",
    "    output_filepath = 'output.csv'\n",
    "    with open(input_filepath, 'r', newline='', encoding='utf-8') as infile, \\\n",
    "         open(output_filepath, 'w', newline='', encoding='utf-8') as outfile:\n",
    "\n",
    "        reader = csv.reader(infile)\n",
    "        writer = csv.writer(outfile)\n",
    "\n",
    "        next(reader)\n",
    "\n",
    "        writer.writerow(['word_name', 'class_name'])\n",
    "\n",
    "        for row in reader:\n",
    "            word = row[0]\n",
    "            word_length = len(word)\n",
    "            predicted_class = 'A' if word_length % 2 != 0 else 'B'\n",
    "            writer.writerow([word, predicted_class])\n",
    "\n",
    "    print(f\"Классификация завершена. Результат записан в {output_filepath}\")"
   ]
  },
  {
   "cell_type": "code",
   "execution_count": 67,
   "metadata": {},
   "outputs": [
    {
     "name": "stdout",
     "output_type": "stream",
     "text": [
      "Классификация завершена. Результат записан в output.csv\n"
     ]
    }
   ],
   "source": [
    "solve_minimal()"
   ]
  }
 ],
 "metadata": {
  "kernelspec": {
   "display_name": "default",
   "language": "python",
   "name": "python3"
  },
  "language_info": {
   "codemirror_mode": {
    "name": "ipython",
    "version": 3
   },
   "file_extension": ".py",
   "mimetype": "text/x-python",
   "name": "python",
   "nbconvert_exporter": "python",
   "pygments_lexer": "ipython3",
   "version": "3.10.16"
  }
 },
 "nbformat": 4,
 "nbformat_minor": 2
}
