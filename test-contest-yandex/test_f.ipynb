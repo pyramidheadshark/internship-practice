{
 "cells": [
  {
   "cell_type": "code",
   "execution_count": null,
   "metadata": {},
   "outputs": [],
   "source": [
    "from collections import deque"
   ]
  },
  {
   "cell_type": "code",
   "execution_count": null,
   "metadata": {},
   "outputs": [],
   "source": [
    "def solve():\n",
    "    n = int(input())\n",
    "    t1, t2, k = map(int, input().split())\n",
    "    \n",
    "    matrix = []\n",
    "    for _ in range(n):\n",
    "        matrix.append(list(map(int, input().split())))\n",
    "\n",
    "    overall_result = True \n",
    "\n",
    "    neighbors = [\n",
    "        (-1, -1), (-1, 0), (-1, 1),\n",
    "        (0, -1),          (0, 1),\n",
    "        (1, -1), (1, 0), (1, 1)\n",
    "    ]\n",
    "\n",
    "    for y in range(n):\n",
    "        for x in range(n):\n",
    "\n",
    "            if matrix[y][x] >= t1: \n",
    "                \n",
    "                current_area_size = 0\n",
    "                found_strong_rainfall = False\n",
    "                \n",
    "                q = deque([(y, x)])\n",
    "                start_y, start_x = y, x\n",
    "\n",
    "                if matrix[start_y][start_x] >= t2:\n",
    "                     found_strong_rainfall = True\n",
    "                matrix[start_y][start_x] = -1\n",
    "\n",
    "                while q:\n",
    "                    curr_y, curr_x = q.popleft()\n",
    "                    current_area_size += 1\n",
    "                    \n",
    "                    for dy, dx in neighbors:\n",
    "                        ny, nx = curr_y + dy, curr_x + dx\n",
    "\n",
    "                        if 0 <= ny < n and 0 <= nx < n:\n",
    "                            if matrix[ny][nx] >= t1:\n",
    "                                if matrix[ny][nx] >= t2:\n",
    "                                    found_strong_rainfall = True\n",
    "                                matrix[ny][nx] = -1 \n",
    "                                q.append((ny, nx)) \n",
    "\n",
    "                if current_area_size > k:\n",
    "                    overall_result = False\n",
    "                    break \n",
    "\n",
    "                if not found_strong_rainfall:\n",
    "                    overall_result = False\n",
    "                    break \n",
    "            \n",
    "            if not overall_result: \n",
    "                break \n",
    "        \n",
    "        if not overall_result:\n",
    "            break\n",
    "\n",
    "    print(overall_result)"
   ]
  },
  {
   "cell_type": "code",
   "execution_count": null,
   "metadata": {},
   "outputs": [],
   "source": [
    "solve()"
   ]
  }
 ],
 "metadata": {
  "language_info": {
   "name": "python"
  }
 },
 "nbformat": 4,
 "nbformat_minor": 2
}
