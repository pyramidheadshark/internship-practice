{
 "cells": [
  {
   "cell_type": "code",
   "execution_count": 24,
   "metadata": {},
   "outputs": [],
   "source": [
    "import math\n",
    "import itertools"
   ]
  },
  {
   "cell_type": "code",
   "execution_count": 25,
   "metadata": {},
   "outputs": [],
   "source": [
    "states = ['G', 'B']\n",
    "observations_str = \"L, M, M, H, M, L, M, M, L, L, H, M, M, H, L\"\n",
    "observations = [obs.strip() for obs in observations_str.split(',')]\n",
    "N = len(states)\n",
    "T = len(observations)\n",
    "state_to_idx = {'G': 0, 'B': 1}\n",
    "obs_to_idx = {'L': 0, 'M': 1, 'H': 2}\n",
    "idx_to_state = {0: 'G', 1: 'B'}\n",
    "obs_indices = [obs_to_idx[obs] for obs in observations]"
   ]
  },
  {
   "cell_type": "code",
   "execution_count": 26,
   "metadata": {},
   "outputs": [],
   "source": [
    "B = [[0.6, 0.3, 0.1],\n",
    "     [0.2, 0.3, 0.5]]\n",
    "\n",
    "log_B = [[math.log(p) for p in row] for row in B]"
   ]
  },
  {
   "cell_type": "code",
   "execution_count": 27,
   "metadata": {},
   "outputs": [],
   "source": [
    "def run_viterbi(pi_param, A_param, B_param_log, obs_indices_param):\n",
    "    N_local = len(pi_param)\n",
    "    T_local = len(obs_indices_param)\n",
    "\n",
    "    if any(p == 0 for p in pi_param) or any(p == 0 for row in A_param for p in row):\n",
    "         return None\n",
    "\n",
    "    try:\n",
    "        log_pi_local = [math.log(p) for p in pi_param]\n",
    "        log_A_local = [[math.log(p) for p in row] for row in A_param]\n",
    "    except ValueError:\n",
    "        return None\n",
    "\n",
    "    viterbi = [[0.0] * T_local for _ in range(N_local)]\n",
    "    backpointer = [[0] * T_local for _ in range(N_local)]\n",
    "\n",
    "    first_obs_idx_local = obs_indices_param[0]\n",
    "    for s in range(N_local):\n",
    "         init_val = log_pi_local[s] + B_param_log[s][first_obs_idx_local]\n",
    "         viterbi[s][0] = init_val if init_val > -float('inf') else -float('inf')\n",
    "         backpointer[s][0] = 0\n",
    "\n",
    "    for t in range(1, T_local):\n",
    "        current_obs_idx_local = obs_indices_param[t]\n",
    "        for j in range(N_local):\n",
    "            max_log_prob = -float('inf')\n",
    "            best_prev_state = -1\n",
    "            for i in range(N_local):\n",
    "                if viterbi[i][t-1] > -float('inf'):\n",
    "                     prob = viterbi[i][t-1] + log_A_local[i][j]\n",
    "                     if prob > max_log_prob:\n",
    "                         max_log_prob = prob\n",
    "                         best_prev_state = i\n",
    "\n",
    "            if max_log_prob > -float('inf'):\n",
    "                final_log_prob = max_log_prob + B_param_log[j][current_obs_idx_local]\n",
    "                viterbi[j][t] = final_log_prob if final_log_prob > -float('inf') else -float('inf')\n",
    "            else:\n",
    "                viterbi[j][t] = -float('inf')\n",
    "\n",
    "            backpointer[j][t] = best_prev_state\n",
    "\n",
    "    best_last_state_idx = -1\n",
    "    max_final_log_prob = -float('inf')\n",
    "    for s in range(N_local):\n",
    "        final_prob = viterbi[s][T_local-1]\n",
    "        if final_prob > max_final_log_prob:\n",
    "            max_final_log_prob = final_prob\n",
    "            best_last_state_idx = s\n",
    "\n",
    "    if best_last_state_idx == -1:\n",
    "        return None\n",
    "\n",
    "    best_path_indices = [0] * T_local\n",
    "    best_path_indices[T_local-1] = best_last_state_idx\n",
    "    for t in range(T_local-2, -1, -1):\n",
    "        current_state_idx_in_path = best_path_indices[t+1]\n",
    "        prev_state_idx_in_path = backpointer[current_state_idx_in_path][t+1]\n",
    "        if prev_state_idx_in_path == -1 and t != T_local-2 :\n",
    "             return None\n",
    "        best_path_indices[t] = prev_state_idx_in_path if prev_state_idx_in_path != -1 else 0\n",
    "\n",
    "\n",
    "    best_path_states_local = [idx_to_state[i] for i in best_path_indices]\n",
    "    return \"\".join(best_path_states_local)"
   ]
  },
  {
   "cell_type": "code",
   "execution_count": 28,
   "metadata": {},
   "outputs": [],
   "source": [
    "pi_options = [[0.5, 0.5], [0.9, 0.1], [0.1, 0.9], [0.7, 0.3], [0.3, 0.7]]\n",
    "\n",
    "A_diagonals = [\n",
    "    [0.9, 0.9], [0.8, 0.8], [0.7, 0.7], [0.6, 0.6], [0.5, 0.5], [0.4, 0.4],\n",
    "    [0.8, 0.9], [0.7, 0.9], [0.6, 0.9], [0.5, 0.9],\n",
    "    [0.9, 0.8], [0.9, 0.7], [0.9, 0.6], [0.9, 0.5],\n",
    "    [0.9, 0.4], [0.4, 0.9], [0.8, 0.5], [0.5, 0.8]\n",
    "]\n",
    "\n",
    "unique_results = set()\n",
    "\n",
    "incorrect_sequences = {\n",
    "    \"GGGBGGGGGGBBBBG\", \"GBBBGGGGGGBBBBG\", \"GBBBBBBBBBBBBBB\",\n",
    "    \"GGGGGGGGGGBBBBG\", \"GGGGGGGGGGBBBBB\", \"GGGBBGGGGGBBBBB\",\n",
    "    \"GGGGGGGGGBBBBBB\", \"GGGGGGGGBBBBBBB\", \"BBBBBBBBBBBBBBB\",\n",
    "    \"BBBBBGGGGGBBBBB\", \"BBBBBGGGGGBBBBG\", \"BBBBGGGGGGBBBBG\",\n",
    "    \"BBBBGGGGGGGGGGG\", \"BBGBGGBGGGBGGBG\", \"BGGBGGGGGGBGGBG\",\n",
    "    \"BGGGGGGGGGGGGGG\", \"GBBBBGGGGGBBBBG\", \"GBGBGGBGGGBGGBG\",\n",
    "    \"GGGGGGGGGGGGGGG\"\n",
    "}"
   ]
  },
  {
   "cell_type": "code",
   "execution_count": 29,
   "metadata": {},
   "outputs": [
    {
     "name": "stdout",
     "output_type": "stream",
     "text": [
      "--- Запуск Расширенного Перебора ---\n"
     ]
    }
   ],
   "source": [
    "print(\"--- Запуск Расширенного Перебора ---\")\n",
    "count = 0\n",
    "for pi_val in pi_options:\n",
    "    for diag in A_diagonals:\n",
    "        p_gg, p_bb = diag[0], diag[1]\n",
    "        p_gg = max(0.001, min(0.999, p_gg))\n",
    "        p_bb = max(0.001, min(0.999, p_bb))\n",
    "        p_gb = 1.0 - p_gg\n",
    "        p_bg = 1.0 - p_bb\n",
    "        A_val = [[p_gg, p_gb], [p_bg, p_bb]]\n",
    "\n",
    "        pi_val_rounded = [round(p, 10) for p in pi_val]\n",
    "        A_val_rounded = [[round(p, 10) for p in row] for row in A_val]\n",
    "\n",
    "        result = run_viterbi(pi_val_rounded, A_val_rounded, log_B, obs_indices)\n",
    "        if result:\n",
    "            unique_results.add(result)\n",
    "        count += 1"
   ]
  },
  {
   "cell_type": "code",
   "execution_count": 30,
   "metadata": {},
   "outputs": [
    {
     "name": "stdout",
     "output_type": "stream",
     "text": [
      "\n",
      "--- Перебор Завершен (90 комбинаций) ---\n",
      "Найдено уникальных последовательностей: 17\n"
     ]
    }
   ],
   "source": [
    "print(f\"\\n--- Перебор Завершен ({count} комбинаций) ---\")\n",
    "print(f\"Найдено уникальных последовательностей: {len(unique_results)}\")"
   ]
  },
  {
   "cell_type": "code",
   "execution_count": 31,
   "metadata": {},
   "outputs": [
    {
     "name": "stdout",
     "output_type": "stream",
     "text": [
      "\n",
      "--- Новые Уникальные Последовательности (Кандидаты) ---\n",
      "GGGBGGGGGGBGGBG\n"
     ]
    }
   ],
   "source": [
    "\n",
    "print(\"\\n--- Новые Уникальные Последовательности (Кандидаты) ---\")\n",
    "new_candidates_found = False\n",
    "for res in sorted(list(unique_results)):\n",
    "    if res not in incorrect_sequences:\n",
    "        print(res)\n",
    "        new_candidates_found = True\n",
    "\n",
    "if not new_candidates_found:\n",
    "    print(\"Новых уникальных последовательностей, отличных от неверных, не найдено.\")"
   ]
  }
 ],
 "metadata": {
  "kernelspec": {
   "display_name": "default",
   "language": "python",
   "name": "python3"
  },
  "language_info": {
   "codemirror_mode": {
    "name": "ipython",
    "version": 3
   },
   "file_extension": ".py",
   "mimetype": "text/x-python",
   "name": "python",
   "nbconvert_exporter": "python",
   "pygments_lexer": "ipython3",
   "version": "3.10.16"
  }
 },
 "nbformat": 4,
 "nbformat_minor": 2
}
