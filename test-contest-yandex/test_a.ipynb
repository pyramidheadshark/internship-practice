{
 "cells": [
  {
   "cell_type": "code",
   "execution_count": null,
   "metadata": {},
   "outputs": [],
   "source": [
    "def solve():\n",
    "    n = int(input())\n",
    "    if n <= 1:\n",
    "        print(\"-1\")\n",
    "        if n == 1:\n",
    "             input()\n",
    "        return\n",
    "\n",
    "    cards = list(map(int, input().split()))\n",
    "\n",
    "    last_seen_index = {}\n",
    "    min_distance = n + 1\n",
    "\n",
    "    for i in range(n):\n",
    "        current_card = cards[i]\n",
    "\n",
    "        if current_card in last_seen_index:\n",
    "            prev_index = last_seen_index[current_card]\n",
    "            distance = i - prev_index\n",
    "            min_distance = min(min_distance, distance)\n",
    "            if min_distance == 1:\n",
    "                break\n",
    "\n",
    "        last_seen_index[current_card] = i\n",
    "\n",
    "    if min_distance > n:\n",
    "        print(\"-1\")\n",
    "    else:\n",
    "        print(min_distance - 1)"
   ]
  },
  {
   "cell_type": "code",
   "execution_count": null,
   "metadata": {},
   "outputs": [],
   "source": [
    "solve()"
   ]
  }
 ],
 "metadata": {
  "kernelspec": {
   "display_name": "default",
   "language": "python",
   "name": "python3"
  },
  "language_info": {
   "name": "python",
   "version": "3.10.16"
  }
 },
 "nbformat": 4,
 "nbformat_minor": 2
}
